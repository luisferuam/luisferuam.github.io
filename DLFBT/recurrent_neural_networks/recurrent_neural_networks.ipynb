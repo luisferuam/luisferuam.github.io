{
  "nbformat": 4,
  "nbformat_minor": 0,
  "metadata": {
    "colab": {
      "name": "recurrent_neural_networks.ipynb",
      "provenance": [],
      "collapsed_sections": []
    },
    "kernelspec": {
      "name": "python3",
      "display_name": "Python 3"
    }
  },
  "cells": [
    {
      "cell_type": "markdown",
      "metadata": {
        "id": "hVQTJx0og-zu"
      },
      "source": [
        "## Introduction\n",
        "\n",
        "Recurrent Neural Networks (RNNs) are deep neural networks whose architecture includes recurrent connections (loops) from one layer to itself or from one layer to a previous layer. This way the information may flow back through recurrent loops. This is in contrast with feed-forward (FF) networks, where the information flows always forwards (from one layer to the next). \n",
        "\n",
        "These networks are specially designed to cope with sequential inputs, and are the current state of the art in many deep learning applications related to sequence classification or sequence modeling, such as:\n",
        "\n",
        "- Text processing or generation: automatic translation, sentiment analysis, chatbots, ...\n",
        "\n",
        "- Automatic music composition\n",
        "\n",
        "- Temporal series forecasting: stock market, weather, ..."
      ]
    },
    {
      "cell_type": "markdown",
      "metadata": {
        "id": "5WSa4JXJZuC9"
      },
      "source": [
        "## Some simple examples\n",
        "\n",
        "Let us start by considering several simple examples of the kind of input/output we usually process with a RNN.\n",
        "\n",
        "**Example 1: Predict the parity of bit sequence**\n",
        "\n",
        "The input is a bit sequence and the output is the parity of the sequence (1 if the number of ones is an odd number, 0 if it is an even number) at each position. The network must provide an output for each input symbol in the sequence. We include an additional ``$`` symbol that resets the parity to 0, making the sequence start again. One example of input/output sequences follows:\n",
        "\n",
        "```\n",
        "INPUT:  $11011100000010001$1100000001010011$001001110$$010\n",
        "OUTPUT: 01001011111110000101000000001100010000111010000011\n",
        "```\n",
        "\n",
        "**Example 2: Detect the presence of a given pattern in a bit sequence**\n",
        "\n",
        "The input is a bit sequence and the output is 1 if a given pattern ``w`` appears anywhere within the sequence, 0 otherwise. The network must provide one single output for the whole sequence. Two examples of input/output sequences for the pattern ``w = 11011`` (one of class 0 and one of class 1) follow:\n",
        "\n",
        "```\n",
        "INPUT:  1011100101111111010000001 \n",
        "OUTPUT: 0\n",
        "INPUT:  0110111001000100000101010\n",
        "OUTPUT: 1\n",
        "```\n",
        "\n",
        "**Example 3: Predict the next char**\n",
        "\n",
        "The input is a text string and the output is the same string with all the characters shifted one position to the left. The network must provide an output for each input character: the next character in the sequence. One example of input/output sequences follows:\n",
        "\n",
        "```\n",
        "INPUT:  'En un lugar de la Mancha'\n",
        "OUTPUT: 'n un lugar de la Mancha '\n",
        "```\n",
        "\n",
        "What is common to all the previous problems is that the input consists in all cases of ordered sequences, and this order is relevant for the classification task. Although we could in principle use a standard feed-forward neural network to tackle these problems, this kind of architecture does not make use of the temporal relations between the inputs, and so it will have many difficulties to find good solutions. \n",
        "\n",
        "In general, when facing a classification problem that involves temporal sequences, we need a model that is able to manage the following constraints:\n",
        "\n",
        "1. The order in which the elements appear in the input sequence is relevant.\n",
        "2. Each input sequence may be of a different length. \n",
        "3. There may be long-term dependencies. That is, the output for time $t$ may be dependent on the input seen many time steps before.\n",
        "\n",
        "It is also a good idea to force the model to share its parameters across the sequence.\n",
        "\n",
        "RNNs are built with all these constraints in mind."
      ]
    },
    {
      "cell_type": "markdown",
      "metadata": {
        "id": "BvrSqTquUSw5"
      },
      "source": [
        "## Resources\n",
        "\n",
        "The following are some interesting on-line resources about recurrent neural networks.\n",
        "\n",
        "- *Deep Sequence Modeling* lecture from MIT [Introduction to Deep Learning](http://introtodeeplearning.com/) course:\n",
        "  - [Slides](http://introtodeeplearning.com/slides/6S191_MIT_DeepLearning_L2.pdf)\n",
        "  - [Video](https://www.youtube.com/watch?v=SEnXr6v2ifU&list=PLtBw6njQRU-rwp5__7C0oIVt26ZgjG9NI&index=2)\n",
        "\n",
        "- *Recurrent Neural Networks* lecture from Stanford [Convolutional Neural Networks for Visual Recognition](http://cs231n.stanford.edu/) course:\n",
        "  - [Slides](http://cs231n.stanford.edu/slides/2020/lecture_10.pdf)\n",
        "  - [Video (2017 edition)](https://www.youtube.com/watch?v=6niqTuYFZLQ&list=PL3FW7Lu3i5JvHM8ljYj-zLfQRF3EO8sYv&index=10)\n",
        "\n",
        "\n",
        "- [Recurrent Neural Networks cheatsheet](https://stanford.edu/~shervine/teaching/cs-230/cheatsheet-recurrent-neural-networks) by Afshine Amidi and Shervine Amidi.\n",
        "\n",
        "- Post [The Unreasonable Effectiveness of Recurrent Neural Networks](http://karpathy.github.io/2015/05/21/rnn-effectiveness/) in Andrej Karpathy's blog.\n",
        "\n",
        "- Post [Understanding LSTM Networks](https://colah.github.io/posts/2015-08-Understanding-LSTMs/) in Christopher Olah's blog.\n"
      ]
    },
    {
      "cell_type": "markdown",
      "metadata": {
        "id": "w0dolOk0aZGp"
      },
      "source": [
        "## Simple RNN"
      ]
    },
    {
      "cell_type": "markdown",
      "metadata": {
        "id": "oMKehPUcadLq"
      },
      "source": [
        "### Elman formulation (Elman, 1990)\n",
        "\n",
        "The recurrence is from the hidden layer to itself:\n",
        "\n",
        "$$\n",
        "{\\bf h}_{t} = f(W_{xh} {\\bf x}_{t} + W_{hh} {\\bf h}_{t-1} + {\\bf b}_{h}), \n",
        "$$\n",
        "\n",
        "$$\n",
        "{\\bf y}_{t} = f(W_{hy} {\\bf h}_{t} + {\\bf b}_{y}). \n",
        "$$\n"
      ]
    },
    {
      "cell_type": "markdown",
      "metadata": {
        "id": "tj92F4TnafT7"
      },
      "source": [
        "### Jordan formulation (Jordan, 1997)\n",
        "\n",
        "The recurrence is from the output layer to the hidden layer:\n",
        "\n",
        "$$\n",
        "{\\bf h}_{t} = f(W_{xh} {\\bf x}_{t} + W_{yh} {\\bf y}_{t-1} + {\\bf b}_{h}),\n",
        "$$\n",
        "\n",
        "$$\n",
        "{\\bf y}_{t} = f(W_{hy} {\\bf h}_{t} + {\\bf b}_{y}).\n",
        "$$\n"
      ]
    },
    {
      "cell_type": "markdown",
      "metadata": {
        "id": "ToVij0cuqaKg"
      },
      "source": [
        "## Example. Detect the presence of a given pattern in a bit sequence\n",
        "\n",
        "We will use the second of the introductory examples to get some insight on RNNs. We will first try to solve the problem with a standard FF neural network to see the difficulties it finds. Then we will approach the problem with a simple Elman RNN. This is an example of a many-to-one architecture.\n",
        "\n",
        "We first import all the necessary modules:"
      ]
    },
    {
      "cell_type": "code",
      "metadata": {
        "id": "4EpOvwkpWGJH"
      },
      "source": [
        "import numpy as np\n",
        "import matplotlib.pyplot as plt"
      ],
      "execution_count": 1,
      "outputs": []
    },
    {
      "cell_type": "code",
      "metadata": {
        "id": "nNGKa4Mej5eE"
      },
      "source": [
        "%tensorflow_version 2.x\n",
        "import tensorflow as tf\n",
        "from tensorflow import keras"
      ],
      "execution_count": 7,
      "outputs": []
    },
    {
      "cell_type": "code",
      "metadata": {
        "id": "BpZH4cakrcAA"
      },
      "source": [
        "from keras.models import Sequential, Model\n",
        "from keras.layers import Flatten, Dense, LSTM, GRU, SimpleRNN\n",
        "from keras import backend as K\n",
        "from keras.utils.vis_utils import plot_model"
      ],
      "execution_count": 8,
      "outputs": []
    },
    {
      "cell_type": "markdown",
      "metadata": {
        "id": "2b_XkLSUsK4b"
      },
      "source": [
        "The following code defines a function to create the dataset. The argument ``n`` is the number of input patterns, ``seq_len`` is the sequence length and ``pattern`` is the pattern to be detected in the sequences."
      ]
    },
    {
      "cell_type": "code",
      "metadata": {
        "id": "7nbfASS3qruT"
      },
      "source": [
        "def create_data_set(n, seq_len, pattern):\n",
        "  x = np.random.randint(0, 2, (n, seq_len))\n",
        "  \n",
        "  x_as_string = [''.join([chr(c+48) for c in a]) for a in x]\n",
        "  t = np.array([pattern in s for s in x_as_string])*1\n",
        "\n",
        "  return x, x_as_string, t"
      ],
      "execution_count": 9,
      "outputs": []
    },
    {
      "cell_type": "markdown",
      "metadata": {
        "id": "b2CSIeoDsqCh"
      },
      "source": [
        "We use the ``create_data_set`` function to create datasets for training and validation:"
      ]
    },
    {
      "cell_type": "code",
      "metadata": {
        "id": "9vAv4BlBnzxC",
        "outputId": "37534ccc-51ed-4916-fd23-872763b1f56f",
        "colab": {
          "base_uri": "https://localhost:8080/",
          "height": 391
        }
      },
      "source": [
        "n = 50000\n",
        "seq_len = 25\n",
        "pattern = '11011'\n",
        "\n",
        "x, x_as_string, t = create_data_set(n, seq_len, pattern)\n",
        "xval, xval_as_string, tval = create_data_set(n, seq_len, pattern)\n",
        "\n",
        "for s, c in zip(x_as_string[:20], t[:20]):\n",
        "  print(s, c)\n",
        "\n",
        "print('Class mean (training):', t.mean())\n",
        "print('Class mean (validation):', tval.mean())"
      ],
      "execution_count": 10,
      "outputs": [
        {
          "output_type": "stream",
          "text": [
            "0011010010101101010000010 0\n",
            "0010000100001000011001011 0\n",
            "1101000000001000001011011 1\n",
            "0001000010100100001100100 0\n",
            "1110111001110001111001011 1\n",
            "0100111101100011111111101 1\n",
            "1011111010110010110011010 0\n",
            "1101100010001000101001111 1\n",
            "1010101111001011011001100 1\n",
            "0100000010000111011100010 1\n",
            "0000111001010011010100101 0\n",
            "0110000101010010000100001 0\n",
            "1010010010110001011101001 0\n",
            "1111011100011110010110111 1\n",
            "0000011001110100110110110 1\n",
            "1001000110000000001001111 0\n",
            "0010100100100101110001000 0\n",
            "1001111000111000011101101 1\n",
            "0101010001011001111111110 0\n",
            "1111100101100000000110000 0\n",
            "Class mean (training): 0.46958\n",
            "Class mean (validation): 0.4674\n"
          ],
          "name": "stdout"
        }
      ]
    },
    {
      "cell_type": "markdown",
      "metadata": {
        "id": "mGgwHVXYh68T"
      },
      "source": [
        "We observe that the pattern appears in approximately one half of the input sequences."
      ]
    },
    {
      "cell_type": "markdown",
      "metadata": {
        "id": "x-ZPldzkiCvH"
      },
      "source": [
        "### Solution using a FF network\n",
        "\n",
        "Model definition:"
      ]
    },
    {
      "cell_type": "code",
      "metadata": {
        "id": "3XHl_evxg1W-",
        "outputId": "38276fd6-5045-4711-a165-e24edd4acd1c",
        "colab": {
          "base_uri": "https://localhost:8080/",
          "height": 533
        }
      },
      "source": [
        "K.clear_session()\n",
        "\n",
        "model = keras.Sequential()\n",
        "model.add(keras.layers.Dense(10, input_shape=(seq_len,), activation=\"relu\"))\n",
        "model.add(keras.layers.Dense(1, activation=\"sigmoid\"))\n",
        "\n",
        "print(model.summary())\n",
        "plot_model(model, show_shapes=True, show_layer_names=True)"
      ],
      "execution_count": 12,
      "outputs": [
        {
          "output_type": "stream",
          "text": [
            "Model: \"sequential\"\n",
            "_________________________________________________________________\n",
            "Layer (type)                 Output Shape              Param #   \n",
            "=================================================================\n",
            "dense (Dense)                (None, 10)                260       \n",
            "_________________________________________________________________\n",
            "dense_1 (Dense)              (None, 1)                 11        \n",
            "=================================================================\n",
            "Total params: 271\n",
            "Trainable params: 271\n",
            "Non-trainable params: 0\n",
            "_________________________________________________________________\n",
            "None\n"
          ],
          "name": "stdout"
        },
        {
          "output_type": "execute_result",
          "data": {
            "image/png": "[encoded data removed]",
            "text/plain": [
              "<IPython.core.display.Image object>"
            ]
          },
          "metadata": {
            "tags": []
          },
          "execution_count": 12
        }
      ]
    },
    {
      "cell_type": "markdown",
      "metadata": {
        "id": "gKmCI2AItouo"
      },
      "source": [
        "Model compilation:"
      ]
    },
    {
      "cell_type": "code",
      "metadata": {
        "id": "Iu9sJAWwjf6J"
      },
      "source": [
        "model.compile(loss='binary_crossentropy', optimizer=keras.optimizers.Adam(), metrics=['accuracy'])"
      ],
      "execution_count": 13,
      "outputs": []
    },
    {
      "cell_type": "markdown",
      "metadata": {
        "id": "-jG3uFcZt6Lk"
      },
      "source": [
        "Model training:"
      ]
    },
    {
      "cell_type": "code",
      "metadata": {
        "id": "K7QgoHAVj8jt"
      },
      "source": [
        "history = model.fit(x, t, epochs=1000, batch_size=1000, validation_data=(xval, tval))"
      ],
      "execution_count": null,
      "outputs": []
    },
    {
      "cell_type": "markdown",
      "metadata": {
        "id": "rtquCPuxuDrQ"
      },
      "source": [
        "Plots of loss and accuracy:"
      ]
    },
    {
      "cell_type": "code",
      "metadata": {
        "id": "olpKadX0oiup",
        "outputId": "2381439d-5ccd-45de-cd8b-27bcc31c75df",
        "colab": {
          "base_uri": "https://localhost:8080/",
          "height": 404
        }
      },
      "source": [
        "hd = history.history\n",
        "\n",
        "plt.figure(figsize=(12,6))\n",
        "\n",
        "plt.subplot(1,2,1)\n",
        "plt.plot(hd['accuracy'], \"r\", label=\"train\")\n",
        "plt.plot(hd['val_accuracy'], \"b\", label=\"valid\")\n",
        "plt.grid(True)\n",
        "plt.xlabel(\"epoch\")\n",
        "plt.ylabel(\"accuracy\")\n",
        "plt.title(\"Accuracy\")\n",
        "plt.legend()\n",
        "\n",
        "plt.subplot(1,2,2)\n",
        "plt.plot(hd['loss'], \"r\", label=\"train\")\n",
        "plt.plot(hd['val_loss'], \"b\", label=\"valid\")\n",
        "plt.grid(True)\n",
        "plt.xlabel(\"epoch\")\n",
        "plt.ylabel(\"loss\")\n",
        "plt.title(\"Loss\")\n",
        "plt.legend()\n",
        "\n",
        "plt.show()"
      ],
      "execution_count": 15,
      "outputs": [
        {
          "output_type": "display_data",
          "data": {
            "image/png": "[encoded data removed]",
            "text/plain": [
              "<Figure size 864x432 with 2 Axes>"
            ]
          },
          "metadata": {
            "tags": [],
            "needs_background": "light"
          }
        }
      ]
    },
    {
      "cell_type": "markdown",
      "metadata": {
        "id": "sekhU2pnk5CO"
      },
      "source": [
        "### Solution using a RNN\n",
        "\n",
        "Model definition. The following points are important:\n",
        "\n",
        "- ``stateful=False``: This indicates that it is not necessary to pass the last state to the next batch. \n",
        "\n",
        "- ``return_sequences=False``: This indicates that it is not necessary to output the states at all time steps, only the last one. "
      ]
    },
    {
      "cell_type": "code",
      "metadata": {
        "id": "6El8ISXflEc3",
        "outputId": "fc713bf1-8874-4703-f1bb-f585d7a388d0",
        "colab": {
          "base_uri": "https://localhost:8080/",
          "height": 533
        }
      },
      "source": [
        "K.clear_session()\n",
        "\n",
        "model = Sequential()\n",
        "model.add(SimpleRNN(10, activation=\"tanh\", input_shape=(seq_len, 1), return_sequences=False, stateful=False, unroll=True))\n",
        "model.add(Dense(1, activation='sigmoid'))\n",
        "\n",
        "print(model.summary())\n",
        "plot_model(model, show_shapes=True, show_layer_names=True)"
      ],
      "execution_count": 18,
      "outputs": [
        {
          "output_type": "stream",
          "text": [
            "Model: \"sequential\"\n",
            "_________________________________________________________________\n",
            "Layer (type)                 Output Shape              Param #   \n",
            "=================================================================\n",
            "simple_rnn (SimpleRNN)       (None, 10)                120       \n",
            "_________________________________________________________________\n",
            "dense (Dense)                (None, 1)                 11        \n",
            "=================================================================\n",
            "Total params: 131\n",
            "Trainable params: 131\n",
            "Non-trainable params: 0\n",
            "_________________________________________________________________\n",
            "None\n"
          ],
          "name": "stdout"
        },
        {
          "output_type": "execute_result",
          "data": {
            "image/png": "[encoded data removed]",
            "text/plain": [
              "<IPython.core.display.Image object>"
            ]
          },
          "metadata": {
            "tags": []
          },
          "execution_count": 18
        }
      ]
    },
    {
      "cell_type": "markdown",
      "metadata": {
        "id": "ZrqmfzWDuf97"
      },
      "source": [
        "Model compilation:"
      ]
    },
    {
      "cell_type": "code",
      "metadata": {
        "id": "7aAFFEgUlE81"
      },
      "source": [
        "model.compile(loss='binary_crossentropy', optimizer=keras.optimizers.Adam(), metrics=['accuracy'])"
      ],
      "execution_count": 19,
      "outputs": []
    },
    {
      "cell_type": "markdown",
      "metadata": {
        "id": "jVMYi71auj6N"
      },
      "source": [
        "Model training:"
      ]
    },
    {
      "cell_type": "code",
      "metadata": {
        "id": "RC8LC5_flEvm"
      },
      "source": [
        "history = model.fit(x[:, :, None], t[:, None], epochs=200, batch_size=1000, validation_data=(xval[:, :, None], tval[:, None]))"
      ],
      "execution_count": null,
      "outputs": []
    },
    {
      "cell_type": "markdown",
      "metadata": {
        "id": "zYEG41CPupdR"
      },
      "source": [
        "Plots of loss and accuracy:"
      ]
    },
    {
      "cell_type": "code",
      "metadata": {
        "id": "PPmYEgbMpR2f",
        "outputId": "8b5d2afb-c153-4dc2-9289-f2e3d6a5fd1c",
        "colab": {
          "base_uri": "https://localhost:8080/",
          "height": 404
        }
      },
      "source": [
        "hd = history.history\n",
        "\n",
        "plt.figure(figsize=(12,6))\n",
        "\n",
        "plt.subplot(1,2,1)\n",
        "plt.plot(hd['accuracy'], \"r\", label=\"train\")\n",
        "plt.plot(hd['val_accuracy'], \"b\", label=\"valid\")\n",
        "plt.grid(True)\n",
        "plt.xlabel(\"epoch\")\n",
        "plt.ylabel(\"accuracy\")\n",
        "plt.title(\"Accuracy\")\n",
        "plt.legend()\n",
        "\n",
        "plt.subplot(1,2,2)\n",
        "plt.plot(hd['loss'], \"r\", label=\"train\")\n",
        "plt.plot(hd['val_loss'], \"b\", label=\"valid\")\n",
        "plt.grid(True)\n",
        "plt.xlabel(\"epoch\")\n",
        "plt.ylabel(\"loss\")\n",
        "plt.title(\"Loss\")\n",
        "plt.legend()\n",
        "\n",
        "plt.show()"
      ],
      "execution_count": 21,
      "outputs": [
        {
          "output_type": "display_data",
          "data": {
            "image/png": "[encoded data removed]",
            "text/plain": [
              "<Figure size 864x432 with 2 Axes>"
            ]
          },
          "metadata": {
            "tags": [],
            "needs_background": "light"
          }
        }
      ]
    },
    {
      "cell_type": "markdown",
      "metadata": {
        "id": "j9QHlvERs5F3"
      },
      "source": [
        "Note that, in spite of having a fewer number of trainable parameters, the RNN converges faster than the FF network and gets a much better solution. "
      ]
    },
    {
      "cell_type": "markdown",
      "metadata": {
        "id": "cddcGiqObtSt"
      },
      "source": [
        "## Backpropagation through time\n",
        "\n",
        "Let us consider the Elman model. The network state ${\\bf h}_{t}$ depends on the state at the previous time step, ${\\bf h}_{t-1}$, and this depends in turn on ${\\bf h}_{t-2}$, and so on. It is sometimes useful to imagine an unfolded representation of the RNN model, where we have a different copy of the network for every time step and the state is passed from one time step to the next one:"
      ]
    },
    {
      "cell_type": "markdown",
      "metadata": {
        "id": "nuR49ma1V8k1"
      },
      "source": [
        "![](data:image/png;base64,iVBORw0KGgoAAAANSUhEUgAABDgAAADzCAYAAABjcKbrAAAABHNCSVQICAgIfAhkiAAAABl0RVh0U29mdHdhcmUAZ25vbWUtc2NyZWVuc2hvdO8Dvz4AAAAmdEVYdENyZWF0aW9uIFRpbWUAbWFyIDIyIHNlcCAyMDIwIDEyOjU0OjQ2DopT+wAAIABJREFUeJzt3X9wVHWe//tXnMy1UwWVpi7zncTSSbfXUWINJkHcEr4yaeK6O4ZBQrh+q4DdSZg4+tUgBJJxR0GMTNQZJ0iwjI4OGYJK2O/MF+iIZHfGSwiLk+x+RdLglJEZr90oZbJ3uJXDhVraMbPn/pF00wkB8qO7zznp56OqS9It4U3nw6ff5/X5nHPSTNM0BQAAAAAA4GDXWF0AAAAAAADAZBFwAAAAAAAAxyPgAAAAAAAAjkfAAQAAAAAAHI+AAwAAAAAAOB4BBwAAAAAAcDwCDgAAAAAA4HgEHAAAAAAAwPEIOAAAAAAAgOMRcAAAAAAAAMcj4AAAAAAAAI5HwAEAAAAAAByPgAMAAAAAADgeAQcAAAAAAHA8Ag4AAAAAAOB4BBwAAAAAAMDxCDgAAAAAAIDjEXAAAAAAAADHI+AAAAAAAACOR8ABAAAAAAAcj4ADAAAAAAA4HgEHAAAAAABwPAIOAAAAAADgeAQcAAAAAADA8Qg4AAAAAACA46VbXQAmJxQK6dSpUwqFQgqFQlaXYzsej0cej0c5OTnyeDxWl5PyAoGAzp49q46ODqtLsaX8/Hy53W4VFhZaXQquIDKOIWVmZio/P9/qMnAFhw8flmEYCgQCVpdiO263W/n5+Yxjm4v0uhhEjwBcGQGHA4VCIe3cuVN+v5+GZRzy8/NVUlKisrIywo4kam1tld/vl9/vl2EYVpfjGCUlJSopKdGSJUvkdrutLidlRcZvR0cHIfJVeDwelZSUyOfzacmSJVaXk7IMw9DOnTvV0dEhv99vdTmO4Xa7oz2Cz+ezupyUFQgEouOXHvfKPB6PfD5fdM6lVwCGmHCM/v5+s7y83JTEY5KPqqoqs7+/3+of6ZR26NAh0+fzWf6zdvrD4/GYzc3NVv84U0p/f79ZW1trut1uy3/+Tn243W6ztraWeTbJmpubGbdxePh8PvPQoUNW/zhTSnNzs+nxeCz/2Tv5UV5ebgaDQat/lIDl0kzTNAXba25u1rp164atgOd8I1tLvuvTku/6JEmFC+ZaVJ19HT5yVJLU+naHWt/u0KlPe6Ovud1ubd26VeXl5RZVNzUZhqF169apubl52PP3LfKpcMHtyr/tZmVmTlf+bbdYU6BNhU59rlOffq7QqV4dfvd9tb7dobNnz0Vfz8/P1759+9h9lGB+v1+rVq26ZLdR3uybVbjgdrkzp1tUmb0ZZ8/p8JH3dfyDPwx73uPxaOvWrSopKbGostQQCoW0dOnSYSvemZnTteS7PhXedbs8OdnKm32L3G7Gb6zAiZM6e/acAif+oLfe7tDhd98f9np5ebl27NhhUXWpIRAIaNWqVZfs1sibfbPybrtFnm9kW1SZ/R0+8v4lY9btdquqqkpPPfWURVUB1iPgcICnn35atbW10a8L77pdm554kEBjAg4fOarNz7427AOhtraWD4I4MQxDCxcuHNaorHlkuTY9/hCN9QTsfHO/1v9oSzTocLvdOnToEOeKJ8i6devU0NAQ/TrnG9na9PhDWvJdH+N3jAzjnFrf7tDm514dFihXVVVp69atFlY2dQUCAS1cuDAaymVmTtcLP6lW2d8ttrgy5zGMc9r83Kt68eXd0efy8/N16NAhtv8nwMjFu8zM6Vr7yHJ9b+VieXKus7g652h9u0MvNrYM6219Pp/27dvHuEVKIuCwuVWrVkVXwjMzp+uXP6+N7tjAxI08cGSVZvIMw5DX6402Knmzb9ae3VtoUibJMM5p/Y+26PVd+6PPHTp0iHPE48gwDK1atSp6vQIOEONj5DxbUlKiffv2WVzV1OL3+7V06dLo199buVgv/KSaQG6SQqc+17Ll1dEdSYQc8Tdy8W7T4w9qzSMrGLuTcPjIUa3/hy3Dxi07P5GKCDhsrKGhQevWrZM0uJK4Z/cWtvXHUeDESd1d/FC0+d66dauqqqosrsqZRu7coMmOv22NLar+0RZJ7OSIt9ggOW/2zWr6eS1zbZwETpxUxX+vjTbchMnxM3LnRtMrtYRycTQyXM7Pz1d3d7fFVU0Nzc3NWrVqlSQW7+LNMM5p2fLq6G4OwjmkIgIOm4pdlcnMnK7/+/f7OVhMgNCpz3X7f10RDTn27dvHueITEHuA+L2Vi/XLn9daWs9UtfPN/ap4uFYSTUu81NbW6umnn5Y0GG4cbHuNuTbODOOc7i5+MBpyECZPnmEYKigoiN7Zh3Ajcb7/32ujIQcB3eR1dHRo4cKFkgb724NtrxIoJ0DsuGX3HFINAYcNxTYuTP6JFzhxUnP/6wpJgxfECwaDFlfkLLHNSt7sm/V+5+6r/A5Mxvp/qI+eH7527dph14zA+MSO3ZxvZOv93+0m3EgQwzin/+Nbi6NhMqdZTU55ebl27twpaXBr/6YnHrK4oqlrZEDH2J24kaeyHv1dC/1tAt1974PRnRxPPfXUsFOCgKnsGqsLiIfwr1cqIy1NaWlpSvOuVvuA1RVNTkNDQ3RVZtPjDzL5J1j+bbdo0+MPShq8En2iPwDa12QPjtW0NGWs2KtwQv+0xIvdZnqw7TWLq5n6XvhpjQrvul2StG3btuhckXAD3XqmYGieTcvQ3a/0JefPTaDIzg1J2rN7C+FGArndg2F9ROx7n3CnG3V3xtDY/eocPfP75P3RiRAKhaLhxuBFxwk3Esntnq49u7dEv46cOpwMU61faGhoiIYbW35STX+bYHt2b1HO0F1otm3bdsndwRJtqh2fwTmmRMAxlRiGoW3btkkaXFFcW7nC4opSw6YnHrL0Q8CpmpubowfYax9ZzgFikmx64sHor1mRmRi/36+Ojg5Jg3f6odFOvPzbbtH3Vg6eRtHR0RF9/zE+wy7MGDMXIHE8OddFF0ICgcAlt0HH1YVCoWh/mzf7ZvrbJHC7p2vT44MBqGEY7PhEyiDgsBm/3x89uI5MSkiO2A8BGu+xib3rxJpHaFaSpXDB3OgujtbWVourcabYu1Mx1ybPpscfVGbmYBBKsz0xsbs3uF188qx5ZEV07EY++zB2sf3tCz+ttria1FH2d4uVN/tmSYoGTMBUR8BhM7EH1lwwLLlir+BN8zI2kYPrJd/1sXsjySIr4QRy42cYBmPXIp6c66JzLeHc+MV+NkXmACSH2z09GiwfPnzY4mqcJxLM5Xwjm2AuySILUPQLSBUEHDYTafjuW+SztpAURPMyPrEfkpH3DclTuODie07DMj6x7xe3Jkw+wuSJY+xaK/Kec6A4PoZhRG8jz7hNvth+gTkXqWDKBhx97zyjlUW3Knt6hjJm3Kg5961W01H7X1chsn0v/7abLa4kNUU+BJJ24UZJkqGuV1br7tnZysjIUEb2rbr7wS1qt/k1HCPNiiTlMV6TzpNzXfS6MZY02umSzveoZf0izfHOUEZGhrJz52vlj9sUtPmFxGLHLuFc8sW+57E/i2QKf7xXG//bfN34tQxlTJ+hG+ctU83uHttfxDHyfuXNvpmdRxaI/ayzZuw6v19g90byeXKui56mYtWcG+HU4zM4S7rVBcRdukvGvgdU9L0m9UQ7laC69zfqgSPH1HeoXRvyXVZWeFmxk07kPE9YJxQKyePxJPTPcKWH1flYkRb9rPtiY93Xo/Zf1KjzvV4dOFKvomkJLWHCYi/EygUareH5xnU69WmvJX+2a+BDbblvmWoOXRwHfR91qWXTInUF96jzl6XKsqSyq4sduxwkJl/se570ZjvdJQWbtPKRB7T3dOTJsIL/uldbjnaq53ynDvzAm9yaJsBNj2CJ2M+6ZF+M3Mn9QuyikTvTpkVOcZbPGQ4+PoPzTL0dHAOdqn9sl8LzKlT95AZVLs5V9J+L0aX659tk15xw+AEjK+JWiN3Gl5RdHD0vafUrvcpdXq0NT1arNN8dfSkcaNQzbwQTX8MEcacZ+zh79mzS/8ze12tU152t0kc3aMMPV2heTJoRfKNOTdYuEl1R7Co4rBF575M+jwwYOrC5Rm2uYlU8vkEbflAkb6RJGOhT27Nb1G7jbRycPpnCHNwvxPZT7OCwRk7OdZIsnEMcfHwG55l6OzhCXQrev0vdv1oxtHq4WvNXFGjl7sH9e8aRdh0bKFXR1Pubw4GMoz2a80KnDq7LHXzisWKtvuNuNX4kSWF1HupS+GGv7JhpW73NERcl/2cRVvfvpQ3vHFPdnYOjM7zCq/nznlF3WNJAj9qP9GlDvl33cAyyfEUrhVn23g/0qOt8pQ50vaTimYNPVcy+W3PWtA8216c71f6RVJRvTXnA5Ti5X4D1PEOntFqG4zMk0dTbwZFeoNVPrIjZGp2l0vuLFM25jV71nbekMuBSnpXa8HDuxa+nFWnlvTHbo3t7Zc0JCMCVuRfXqObOi620K3+llkW3l4bV28vIhR25VLRmYzTckCTv/Ss0PzqUe9XH0IUd0S/AyTg+QxJNvYDDPUcFs4Y/5brBq+xIIjgQ1gWbXwAPqcM1u0BzRiy3ZN2QdXEFZiBs+4veIRW5lFsw72JjIknKljdmgSgcZuTChtK9KigYsbNoZrayI4OZHgE2Rb8AR+P4DEk09QKOaS65Rm5vShdb9mBP02ZcOjbTM6yoBBiXjGkjx6lrKp70iCnHpRmXXONwlL4BsBv6BTgZx2dIoqkXcAAAAAAAgJRDwAEAAAAAAByPgAMAAAAAADgeAQcAAAAAAHA8Ag4AAAAAAOB4KR5whNXzxmrdPTtbGRkZyi5YpJp9QauLAi7vTJe2rLhVGRl3qzFkdTEAMLUZR5u0+m9uVfb0DGXMyNac+2rU8hE34wQAwK6mRMDhun+XLpimTNOUGXxJRSNvQ5Rfp2NfDr1+4YAqZg4+HX53o5at6VTuE20KBoNqW5Ottu8v0zOBpP8VkEKKXuwdHIumqQstpZfcIsv76MHoeL7QtUG5kRcCjVo0r0Lt03Ll5ZaGSLb0Am3oHppHzQs6+HDWiP/BpRW/uhAd25+8MO/iS6E2bfxvc3TjjAxlTB88SNz7MQeJSJLrK3XwwtDY/fKYNnxrxOvpRXrps8jY7teuxUPPG3tVubRGx761UW0fBBV8b5dWpu9VxfI6dQ8k+y+BVDThfiFG+FCNbv1qhhbtMJJRMhA14eOzXy9TRlqa0mIfX83W6neS/leAQ02JgGNiwmr/5S71L61T/fICZWVlqWBVvTYuDKrpl+1WFwdcItzvUukbnTqwZg73DYdzDHRr49JlahlYqe1dQweJ2qWVy7eox+ragCsJZ6vosSY1Pb9CBZ4sZd1UpOqHi+T+uEc95HNwgnCX6tbvUu80qwsBxs4wwtLcDer8rFe90Ue36hZaXRmcInXXgQeC6v7A0K3fjz1YdKvgjlz1vtOtoIrktbA8YCTXwgpVSNLvra4EGIe+Xml2peqfrVbR9ZKUpep1y9R4X6c6DSnXbXWBwGVkzVPFozFfn+lW4y/apXs2qIgDRtheWN0/q1ZL7mpVuOoJlOEY/Wf6pWyvcq/PEi0CJiKFd3D0qveMlDVz+D+dGTNnSH/ql8H2UwCYvOuLVfd6vUqvv/iUEepVf1auvBwkwglON2nRjDSlfW2+Ggcqtff1Co08QQuwnd83qvKX2drwbKmyU3c5Ew5k9BtSb7s23jdHN96QrRvvWKSaN3rExjmMVQoHHACApAu1qPLZThU9UXnp+biAHWUtU1PXhzrW3qTS840qLW1UD4sgsLOBHjWub9SMJ+pV4eGkVjjLBbmUPRBW9t836sA7bdr+PbfaHlmkil9zHRmMTeq2l+nZyp4p9ZwxpJi1mP4zvdLXiuVO3XcGABLCONqoiuVbFH6wTXtWcRIgHCLdraxZbmXNylVB7gV1f/MZNR2pVD3ng8OmgjtqtEXVOrjKK4m7A8JZip4/pk9ivs6d1aT6bq+W7dijvvvZQYerS+EdHF4VFLj1YVdnzJanPnV2BeWdO4frbwBAHPXtW62ipU2asfmg9vywgAvlwvbC+1drzh01ao/dF50uSRfYKg37Ot2kmufDqnyhkjuuYYpwyftNr/SnPvVbXQocIYUDDpeKHqxQ9v46rd7drb4zQXW9Uq1nuuao4vvzrv7bgSQLG33qO92nvj9dkHRBRt/g18Z5qysDrsx4Z7WK1/do2a/btX25l3ADjuC6Y768p5tU81iLukN96vu4S02PbVH7zEUqLrC6OmB0fftb1Hb6mOruyVZ2drays+do41FD7eu9yr6vSX1WFwhcUZ/anlutZ/bHjtSwenqCct3gVbZldcFJUjrbdc2t057Xwlq9uVje7xtyzyrW6pZdqp5ldWXApdrWeLXsjYvrht3zsrVRUsHmD3XsyVzrCgOuxGhTzYN7lL2+TRXXh9V3eqhpSZfcM7PkSulPIdha1go17etXzaY6Fc9eqT5lKXfeMr20r17FXNofNpW1ao+Ci2P3GAX10tIida3o1K6/97K9Hzbn1oz+dtWt6ZVrWr1WzpaC+5/Rxn0ZWvarYu6qgjFJ+dbSe3+9Dtxfb3UZwFWVvn5B5utWVwGM03t7deB0n/rWzFH2mpjn03NVfeRD1d9pWWXAVbnvrNT231ZaXQYwdi63sq6PfeKCZrhccrmzlTWT/XOwO5fmbT6gXVqtuu/dqo1nJPesIq187YDq7iXewNikfMABAEige7ar98vtVlcBACnKq+oj/aq2ugxgrFxelT5/QKXPW10InCqFr8EBAAAAAACmCgIOAAAAAADgeAQcAAAAAADA8Qg44qyhoUGBQMDqMoAxKS8vV0dHh9VlAOPm9/utLgEYt0AgoG3btskwDKtLAcalo6ODcQvHCgQCCoVCVpeBJCHgiDO/36+CggJ5vV6tW7eOsAO2tnPnTi1cuDA6Xpn84RRLly7VjBkzmGfhKIZhqKqqSjNmzNDSpUu1c+dODhrhCLW1tZoxY4ZWrVql1tZWq8sBxsXv98vr9TLvpggCjgQJhUJqaGhQQUGBCgoKtG3bNg4eYVuR8er1eqPjlckfdmcYBvMsHMvv96u8vFxer5eDRjhGc3OzSkpKCJjhSMy7qYGAI848Hs8lzwUCAVVVVUUPHkkOYWeR8Rq7wgjYXew8y7iFkxiGET1oZPcnnGK0gJneFk7BvDu1EXDE2WgBR6xAIKDy8nK2p8IRIkl3ZFsq1+uAEzBu4VSxuz+9Xi+7kuAILIzAydh1P/WkJ+sP6ujo0MDAgAYGBvSXv/wl+hj59Vifs+Pv+4//+I9xvSd+v19+v19ut1slJSW66aabEvTuYyIWLlxodQm2EUm6m5ub5fF4VFJSonA4bHVZiJGWljbq8y6XS2lpaY5/XHPNNcO+HouR47a8vFxlZWXxfNsxScePH9e3v/1tmaZpy8d//ud/Tuj3xWN+DIVCqqqqUlVVlfLz81VVVRWHdxzx8vTTT+vpp5+O6/d0uVzRuS52zhvt18l+/YMPPhjT3yHS21ZVVamkpERr166N63uEyUvF/nasgUUkrIuM35KSEi1ZskRutzuxBSKu0kzTNJPyB42xIU1lN910kz7++GNJ0sG2V1W4YK7FFaWew0eO6u7ih6wuwxGysrLU19cnSRo4977F1aSmu+99UIff5b0fr5kzZ+rMmTMqvOt2Hfyn16wuJyUxdscvMzNTZ8+elSTGroXSp99udQmO43a7o7uV6RessfnZV7X5OeaMidq6dSshs4MkbQeHXWRkZOgrX/mKrrnmmlEfE30t8vrp06d16tSpMdeTk5OjkpISVVVVKRQKpWSqaldlZWVXPeXI6ca7+lRYWKjy8vJoqh0JOGC9jRs3Wr7anazVcdM0J3TayZIlS1ReXq6GhgYdPnw4/j8ETFpGRsYVP2fH87jaZ7YV3/uzzz7Tm2++Oa73JDJuS0pKWCyyEZ/Pp8LCwgn//r/85S+XzIWxc+Jov7by9e7u7nGfUp2Xl6eqqip99NFH+ulPfzrh9wrJM1V2fY58fPrpp+M6PpOGH6NN9eOBqSapp6jEO1S43GsulytZf61L1NbWjumgsaysLHqQGMH5XvZSXl4un89ndRkJNZaxmpOTE92qxwRvXz/+8Y+tLiGpxnqgFxvKRbaYNjQ0JLI0jENhYWFKXSOlo6NjTAFH5MAwdtzCXgoLC1VbW2t1GUnj8/nGFAyP1jOk0vvkBEnavG8rYz0+y8zMVElJSUocA0xlSQs4JpNyTxU0LHCKzMxMlZeXq7y8XPn5+VaXA4xLXl5eNNQglINTsFoIp6JngNMtWbIkGmxYaqBLzxRX68AFScrQ/Mf2qH7xJI4Z4/39Ao1a9ugu9UrSV29VxS+3q8Iz8W+XKCl3ikqy0bDASUbbWQQ4QWSupcGGk7BaCKeKjF16BjhVZDGkvLzcRgvPvfrwvS51GZLk0ozvTfaC1XH+fueD6v7XLgUHJLnCWnR+kuUlCAFHgnCgCKcYbQs/4AQ02HAq5l04VWSlm7ELJ2IxJDUQcMRZeXm5qqqqmPThCMFgkJ1FcKQdO3ZYv5UUGKf8/HzmXThSVVWV/H4//S0cyefzKT8/n8WQFEHAEWc0LXASxiucinADTuR2uzlAhCNxYAgnc8wpgOml2tVvapddv99d9frky/p4fbeEucbqAgAAAAAAACaLgAMAAAAAADgeAQcAAAAAAHA8Ag4AAAAAAOB4BBwAAAAAAMDxCDgAAAAAAIDjEXAAAAAAAADHI+AAAAAAAACOR8ABAAAAAAAcj4ADAAAAAAA4HgEHAAAAAABwPAIOAAAAAADgeAQcAAAAAADA8Qg4AAAAAACA4xFwAAAAAAAAxyPgAAAAAAAAjkfAAQAAAAAAHI+AAwAAAAAAOB4BBwAAAAAAcDwCDgAAAAAA4HgEHAAAAAAAwPEIOAAAAAAAgOMRcACYEI/HY3UJGJKZmWl1CQAAAIDlCDhsyjh73uoSUlLoVK/VJTgGAYd95OfnW10CMC5n/z8+4yaisLDQ6hIAOJBx9pzVJQBJQ8BhI7EHKcdPnLSwktR16tPPo7/2+XzWFeIwhsEHJ5wjEs4dfvd9awtJYYGhzzjCOThJ6NTnV/+fcAm32x399eEjRy2sJHUdP/EHSVJeXp7FlQCJR8BhI7EfACSt1gh9yg6OsRoWyH1AIGeFyAE6u2nGh/fLPmI/93B1kffr+O//YHElqYlFkIkhyLQP5lykAgIOm4kkq28dOGxxJanpX4YOGNkGfHWxDUvr2x3WFZKiYlfBaLTHJzbgYDUx+WLnC8Km8Yn8WzeMc9FdMEgexu7EDJ9z2TmXbIZxjgURpBQCDpspKSmRNLgNkuYluQInTka3n0Z+Drg8j8ejnJwcSdK/vHvM4mpST2yjTcAxPrHvF+Fc8sWGSsy14xP7fr2+a7+FlaSmyOJTXl4eB4rjENsvsICXfLGfc8y5SAUEHDYTO/G8+PJuCytJPbHvNx8AYxN5nwInTrISnkSGcU6vt7wtiUZ7IjweD7vlLGIY54YdJLJdenxix+7rLW9z/aMkOnzkaHQRhFB5/GL7Ba5lklyxn3OMXaQCAg6byc/Pj54e8fqu/XwIJEngxMnoalhhYSEHjGNUVVUV/fXm535hYSWp5cWXW6IHNrE/A4xd5H0Lnfpcm5991eJqUseLL7dEP9cYuxMTed8M45xefLnF4mpSR/WPXpA0eFtuxu74lZeXR38deS+ReIePHFXr24ckSWVlZYTKSAkEHDZUW1sb/XXFw09bV0gKeSDmfW5oaLCwEmfxeDx66qmnJA1+iG5rpNlOtMCJk3rxlcHdRnl5ecOaRoxdeXl5dMv0i6/sZiU8CQzjXHTs5uTkMHYnaOTY5XTWxNvW2BJ9n6uqqlgEmYD8/HyVlZVJklrfPsSuzySJXXyKPb4ApjICDhvy+XzRD4HDR46q4uFaawua4ioero02LmvXruVq3+NUVVWlzMxMSVL1j7bQtCSQYZzT/7miJnowThg3OZFmzzDO6a8XPWRtMSngrxc9FB27NNqT09zcLOnSOQHxd/jIUVX/aIskdm9MVuy/+2UratilnGAVD9dGe7K1a9cSzCFlEHDYVENDQ/Q8251v7ud6HAlS/aMt2vnm4KkpeXl5NN0T4Ha75ff7o18vW1HDimICRA7CIw3hU089xbm0k1ReXh4NkwMnThImJ1BskFxWVsbujUny+XzR3XOhU58PC48QP4ETJ7VsRU30646ODrb4T4LH49HWrVslEc4l2s4399PfImV9pZYRb0sul0vf+c531NzcrC+++EK/+b86deqzXi35rs/q0qYEwzinynXP6dWmPZIGV2U6OjqUlZVlcWXO5PF45PF41NraqnD4z/rV3t/q6//lf1f+bbdYXdqUEDhxUn+96CF99IeQpMEDRHZvxIfP59M///M/69///d91/MQfdOqzXhXedbtcrmutLm1KMIxzWrlqg/7H//yNpMFG+x//8R/lcrksrsz5fD6fAoGATp48qb5//3/124Nd+qs7vqWsr8+0urQpYeeb+/Xd0kcVDv9ZkrRjxw595zvfsbgq57vzzjsVCoV0/Pjx6Lj9m7+eJ7d7utWlTRmbn3tt2K4jv9/P7g2klDTTNE2ri8DlBQIB+Xw+nT17VpKUf9st2vKT9SpcMNfiypxrcLvpC9HVxEi4wakpk9fQ0KB169ZFvy77u8V68kcPypNznYVVOVfkmgWxFxWNhBusIsZPKBSSz+fTqVOnJA3Os/+zpZ5xO0mBEyf1wMNPR+fanJwcBQIBxm4cGYah8vJytba2SpLc7ula88gKrXl4OQeMExQ69bl+/JPXoqvf0mC4wa6j+PL5fDp8ePDuHm73dO1pqae3nSTDOKeKh5+OXlSU/hapioDDAQzDkM/n0/Hjx6PPFS6Yq7KVi3XfokKamDGI3Jpw5679w64RkZeXx5bTOPP7/SovL4+GcpK0tnKF7vuuT4V33W5hZc4ROHFS//LusWF3nJAGT0th011ijDbPEtBNzGgHiIWFhfL7/cy1CVJVVaVt27ZFv/aOAaGbAAAV7ElEQVTkXKc1j6zQt++aw066MTr87vt66+2OYRfLzszMVHNzM7eOT5Dy8nLt3Lkz+nXhgrna9PgPCDrGabTFkJycHPn9fsINpCQCDocwDEMNDQ16+ulL76oS+SAoXMDBY6yzZ88pcOIPknTJhS8jFwqrqqqi4U6AQCCgqqqq6OpMhNs9XXmzb5E7c7rybrvZours6dSnnyt0qnfov8MvvJaTk6OGhgaa7CQYeaAoDe7oKFxwuwoX3K7MTALl0Zw61avjH5xU69sdl4zftWvXckpVEvj9flVVVUV3IkV4cq5TzjeukycnWznfIKyLdfzEH2ScPafjH5y85FoQhYWFamho4AAxwZqbm1VVVTVsUcSTc93gnHvXXOXkZFtYnX1Fety33u645LpnBMpIeSYcJRgMmmVlZaYkHhN8lJWVmcFg0OofZUo4dOiQWVhYaPnP3KmPnJwcc8eOHVb/GFNOd3c34zYOj8LCQuZaC2zdutXMycmx/Ofv1EdhYaF56NAhq3+MKaW/v5/eNg6PnJwcxi5gmiY7OBzM7/fL7/crFAopFApdsmqDwZXvyAUwS0pKWAG3SCgUUkdHh/x+vwzDUCAQGLZag0GFhYWSpJKSEvl8PlYOLRYIBNTc3KyOjo5hp67g8vLy8uTz+VReXs74tVggEJDf71dHR4ckXbKjDoO7OfPz8+V2u6PzLhdjtE4oFIr2tozXscnJyZHP56PHBWIQcCCuQqGQvF6vgsEgTQJsr7a2Vq2treru7ra6FNhcJJiTFA2VrfSb3/xGLpcrGopZJRIgS4oeKAJXkp+fr5KSEq4nhKuKhHOx869VPvroI/3bv/1b9NbiVnG73dHwOHb+BXARAQfiKnL++tatW1VVVWV1OcAVeTwenTp1ikAOjuPxeJSWlqZgMGh1KcCYRRZBPB4PYxeOErkgKv0CYH/XWF0Apha/3y9Jl1ykD7CbQCAQPa2LCyDCSSJjN3LqF+AUzc3NksTYheNE+tvIGAZgXwQciJvYA8ZQKGT5dkLgSmKblNbWVusKAcYpduzSbMNJGLtwoubm5uh1w2JvawvAngg4EDcjV8FZFYedxTbXkQubAU4wMpwzDMO6YoAxil0EkQiW4Ryx/QELeID9EXAgbkYeINK8wK78fv8ld3Eh4IATjBy7hmEwduEII3dsGIbBLg7YnmEYl/SzLOAB9kbAgbgY7YCR5gV2NdoBISvhcILRxi4BB5xgtH6AsQu7u1y/AMC+CDgQF5drUmheYDejrcZEnme8ws4uN3ZbW1stv20tcCWjLYJIjF3Y32i7NVjAA+yNgAOTdrmmW6J5gf34/f7L7tTg4mGwsyuNXcI52NmVxidjF3YVCoV0/PjxUV9j3AL2RcCBSbtS0x15HbCLK43Hjo4OAjnY1pXGLrfmhl1daRFEYuzCvq4057KAB9gXAQcm7WoBBqvisIurNdoSty6EPV1t7HJlf9jV1RZBGLuwq6tdTJQFPMCeCDgwKWM5YAwEAjQvsIWxhBcEcrCjsYxdruwPOxrLQSBjF3Yz8rbGo2H3EWBPBByYlLGudrMqDjsYyzgMhULq6OhIeC3AeIxl7HJlf9jNWBZBJMYu7Ges/QILeID9EHBgUsYaXLAqDqtd6WJhIxHIwU7GOna5sj/sZqzjkbtYwW7GOh6ZcwH7IeDAhI3ngJHmBVYbTxPCaiLsZDxjl3kWdjKescuBIuzC7/df9fSUCBbwAPtJt7oAOJfb7dahQ4eGPbdx40b97ne/U1ZWlnbv3j3sNY/Hk8TqgOFKSkrk8/miX//5z3/W3/7t30qSysrKVF5ePuz/NwxDbrc7iRUCowuFQiosLIx+ff78eb3//vuSpFmzZunrX/969LUrXcwRSLaR19Z499139eSTT0qStm7dqvz8fCvKAq5o5JwrSb/73e80MDCgrKws3XLLLcNeCwQCjGXARtJM0zStLgJTR0lJiVpbW5WTk8Pts2B7aWlpkqSnnnpKtbW11hYDjFEgEFBBQYEkaceOHZeEc4Bd+f1+LV26VJJ06NChYaEzYGdut1tnz55VWVkZu40Am+MUFQApLxwOW10CAAAAgEki4ACQ8gg4AAAAAOcj4AAAwEFcLpfVJQAAANgSAQcAAA5CwAEAycW8CzgHAQfiig8AAEgeTq+Ck9AjwKkYu4BzEHAgrvgAAIDkIeCAk9AjwOmYcwH7I+AAAABAUnGgCCdi3AL2R8CBhOADAAAAXA59AgAgEQg4kBA0LnCCa6+91uoSAAAAAMQJAQeAlMX54AAAAMDUQcABIOWx4wgAAABwPgIOACmPgAMAAABwPgIOAAAchFOrAAAARkfAAQCAg8QGHOw+AoDEI1gGnIOAA3HFBwAAJA8BB5yEHgFOxdgFnIOAA3HFBwAAABgNPQKcjlAZsD8CDgAAACQVB4pwIsYtYH8EHEgIPgAAAMDl0CcAABKBgAMJ8cUXX1hdAnBVbJcGAAAApg4CDgApi4ADAAAAmDoIOACkPLZKAwAAAM5HwAEg5RFwwEnYeQQAADA6Ag4AAByEgAMAAGB0BBwAADgUu48AIPEIlgHnIOBAXPEBAADJQ8ABJ6FHgFNFxi5zLmB/BByIK5oXAAAwGnoEOB0BB2B/BBwAAABIKg4UAQCJQMCBhKF5AQAAo6FHAAAkAgEHEobmBXbHdmkAAABg6iDgAJCyCDgAAACAqYOAA0DKY7cRAAAA4HwEHABSHgEHnObaa6+1ugQAAADbIeAAAMBhOL0KAJKHORdwDgIOAAAcit1HAJB4BByAcxBwIK74AACA5CHggJPQI8DpmHMB+yPgQFzRvAAAgNHQI8DpCDgA+yPgQMLwIQAAAEZDjwAASAQCDiQMzQsAABgNPQIAIBEIOACkLLZLAwAAAFMHAQeAlBUJOFhJBAAAAJyPgANAyiPgAAAAAJyPgAMAAIfh9CoAAIBLEXAAAOAwBBwAkDzMuYBzEHAAAOBQnF4FAIlHwAE4BwEH4ooPAABIHgIOOAk9ApyOORewPwIOxBXNCwAAGE1sj8CBIpyIcQvYHwEHEoYPAQAAMBp6BABAIhBwIGFoXmB37DgCAAAApg4CDgApi4ADAAAAmDoIOACkPHYbAQAAAM5HwAEg5RFwAAAAAM5HwAEAgMNwehUAAMClCDgAAHCYSMDB7iMASDxCZcA5CDgQV3wAAEDyEHDAaa699lqrSwDGjf4WcA4CDsQVHwAAAOBy6BPgZITKgP0RcAAAACCpOFCEE33xxRdWlwDgKgg4kDA0LwAAYDT0CACARCDgQMLQvMDu2CoNAAAATB0EHABSFgEHAAAAMHUQcABIeew2AgAAAJyPgANAyiPggNOw+wgAAOBSBBwAADgMAQcAAMClCDgAAHAodh8BQOIRKgPOkWaapml1EQAAYOwCgYAMw9C0adM0d+5cq8sBgCktFAopFApJknw+n6W1ALgyAg4AAAAAAOB4nKICAAAAAAAcj4ADAAAAAAA4HgEHAAAAAABwPAIOAAAAAADgeAQcAAAAAADA8Qg4MDl9LVp5Q5rS0tKUlpah+T/rGf76QI+2FGUMvZ6m7NImBa2pFCkvrO4fz1fG0FhM8z6gtjPD/w9j/wO68atDr2fM0cZ3w9aUCgzD2IVDDQTV+Dczoj3AjPua1Dfsfwir67E5F8f2Ny8d24AVjHdW69aMyJx6q2pGzqmnm7QsO9L/ztDdI/tfANYxgUnq37vC9KbLlGTKXWS+9MeLr33ycpHp1tBr168wd/VaVydgfnnMrLvLNTgeJdP78EGzP/LauYNm5ayhsSqXOW/zMfOClbUCsRi7cKrgdrM4a2h8pmeZK1ouNgIX3qszC6YNvebKNSt/23+FbwQk0wXz4Lpc0zU057rmbjCPRSfWXnPX8qzofOy+9yXzky+trBVALAIOxEG/eeAH3osT/eLt5iemaZqfbTeLZ0aaGq9Z8RaNC2ygp94sckfGZa5Z3X7BNM0LZucPLzYy7rvqzQ9pVmA3jF04VO/rpWZWZCHEs8Lc8yfTNL/80KyPhnYus+CHnQRzsJdzneaGuRfH6LxnPzRN0zT736q4uLCXVWxuD1pbJoDhvlJbW1ubtO0imKJc+uaC2TrT+iu9d2ZA4U/+lz674W795dUK/fR/nZck5T60R/9jfa5cFlcKaOZ8fTvzPe38zR8VHjij7uPS/Fv+RVVr9+r0gKSZRarf93MV/xerCwVGYOzCoablFerGj/bqV783JOMDvWf8lf7q0yf10Kt/VFiSa+4/6K03ynRDutWVAjH+txs0f06a2ne36/SfB3T6/R5N931Ne1fX6Lf/j6T0LJX+vE0/WTDN6koBxEgzTdO0ughMDeF3azT/ni3qDkua5pLrfHiwcflWtQ501auI+R+2EVTTffP1wP4+SS65pknh82EpPUvFL3fqwA+8VhcIXAZjFw51Zq8euGOZmkKS0l1yucIKn5c0bZ7qjrRrQz5LILCnnp/N1/zHumRIck1zDc65krx/v0edr5cqy9ryAIxAwIE4Cqtr03wV/bhb0UsxTSvQhnc6VXcnjQts5nSLls1bqb2nLz6Vdf8udf9qBc0K7I2xC4cy/mm15t/XqJ6ByDNuFb3QqYPrcq0sC7iygR5tKZ6vmneMi8/dVKkDXS+peKZ1ZQEYHXdRQRy5NK+0WLmxW0w9RVrEqgzs6PpiLZvnjnnCrTn3FnGACPtj7MKh3AtKVeSJecKVq+J7CTdgc+m5Kl08Z9hp1t4FxZpPuAHYEgEH4ifcrWce3aLugZjnft+oyme7xA0LYTd9+yq1cV/MaowMtW2qVMvpy/4WwBYYu3CmsNo3rVbTx7FPdaluzZaYHR2ADYWatHpz+7BeNvjGam38J+OyvwWAdQg4ECdhdf+sUnVD9wl3LyxVUdbF5zeOvH84YKW+vape06LggAZXEBcPXQD39F5Vr2lS0OLygMti7MKhjHdqtPqVnsGDRE+xSu90Dz1fp9VbeyytDbisgaAaH6lR2xlJcmne0mJ504eeXxN5HoCdEHAgLsL/WqeK54d2ariLVPfaHm3fXCx3uqRwtxof3qj28xYXCUiS+tSy5uJqd+4PXtKulpdUOWvo1f01Wv0LDhNhR4xdOJTRpo1rGtUTlpSepRXPN2nXKzWaN02SDLVvrtAzARZCYD89rzwQ3anhunOjGlt2qX750AmBHzdp9fq96rOwPgCjsPYutZgSznWaG/Iv3ie86PnB+4SbX35o1i90R5/PffSg2W9tpYDZ+8tSMyty//qbKswDQ4Oyvy3mvvYzi82X/mhtncBIjF04U7954AfeoV5AZtbS7WavaZqmecHsfLzAdA0977qzzjx2weJSgVgf1JtF7qG51VVgbugaGqCf7TJLs4aeT88yV7T0WlsngGEIODBJF8zOdbnDG5QvY17urjPnTYt8CHjNyjYiDlgouN0sjm1KfhXblPSbe/4+K9qEu++pNz/88rLfCUguxi4cqn/viAAuGPPiuYNm5SxFF0IKnuw0yThgC19+aNbd5YrOq7mPHhw2Nj95udh0D72m60vNXZ9ZVimAEQg4MCn97ZVmrmuUdDvqgtn5w4srNLqpwjzwp6GXvuw1D24uNr0ul1naQkuDBPvyE/Ole90xq4i7zEvWXD7bfnFVRu6Lu5GCB8wN9xeYXrfLdE3LMgsWV5t7/siYRZJMZuwCVurdY67wxIzLFy4dl/1vxQQgrgKz+sjIufUTc/u9blM3VZudBHdIigvmsc3zhveuI9fnvvzQrF/oMmN3Jn1iSa0jfNlp1t0zz5x31zxz3l1FZvVbk1xY7H7JLL1r6PstrDC3Byf37T55vcIsiny/++uHL4oCcZJmmqaZ0HNggNEY7dq4+AG13VCkGYd2yf1Cv/Ys53aysKGBbm28Y75avHXa/uxK3aoPteuxldrYu1rH3tsgbnAIOzOONmnjE1u0pysoI92t3AUrVfN8nVbMYr6FM/S9sUzz17erd2aF2j+o17z0q/8ewCrtj2Tr7ldGXJVjWqn2/GmPSpMx7Q7s1cqvLVOLIUkuFb8W1IEfTOIm4u/W6MaFW4YubF2guveOacO3Jv7tep6brzlPDF2z76Zqdfbwbxrxx0VGYY1wWN5HDqjz9QoVTLO6GOAK+nql2ZWqf7FaRbOylDWrSNXrlin7o051coc42JmxV5VLa3TsWxvV9kFQwfd2aWX6XlUsrxt+O2/Arvr2qnpzr1asL5bb6lqAqwrLMMLyPnxAn3zWq97I449NKiZTBpKGzAzWyCpWxXJJA11WVwJc2fXFqnu9eNhTRqhX/Vm58hLOwc7C2Sp6rEnzHy5VbrokZan64SLVl/aoJyzCZdicobYnatRz/y41fqtJTVaXA1xVWP1GWFkFXnmvn8SuCQCTQsABAOMRalHls50qeqJeRcygsLOseap4NObrM91q/EW7dM8GFRFuwOaMf9qomvdK9VLXPLmPEG/ACfplnJOMri1aNq9dnSFpxuwiVW6uV+WdSdqDlF6qXf2mdsXr+91Vr0++rI/Xd1Pu45268Hjcvh0wKk5RAYAxMo42atk9G2U82KZdq7xWlwOMzekmLZqRprSvzVfjQKX2vl4h1hZha+fbVfdYu4pe2EgYB+cYCCv81WxpIEvLnt2j9ne2q9pzTBsXr1RTyOrigNTB+iMAjEHfvtUqXtOpOc8f1EvLveJ0WjhG1jI1dc1Xb2+39jy3UaWlLrW3VQ6dtgLYTVhdz9aobV69Ou/hyhtwkPRcbWj/RBtinsp9uVE9R4rUtLtHFY9zWXIgGWhvAOAqjHdWq3h9j5b9ul0bkrXNFIiXdLeyZrmVNStXBbkX1P3NZ9R0pFL1C60uDBjFQKd27e5W0KhQ7v6h58KG+s5LxTe0qaLlQ8YunCM9V7leae+fuCo5kCycogJrhA31ne5T3+leGQNS2AgOfn0mbHVlwHBGm2oe3KPs9fWquD48NG771NfXpzB3ooCNhfev1pw7atQeO62mS9IFMdPCttKLVNfVq+AH3ep+b/DR+WKp3J4KNXW1a+MCqwsELsPoUuP6GrV8HPPcQI96glLWDZwYCCQLOzhgib43Vsr7YNvFJvuRW5X9iOS65yUFf1vJ+eGwj/f26sDpPvWtmaPsNTHPp+eq+siHqr/TssqAK3LdMV/e05WqeWyOmtYXKXsgqAPPblH7zEXaU2B1dcDlubNGdAEzM+RKdyn7+iy56VxhV263wu81qvoRl9wvrNZ8d6/aX6hWk1Gsxvu5bheQLGmmaZpWFwEAAOLP+NdG1Wxq1IGuHvUpS7nzlqn6+XpV5HMVGQCIu9NtemZ9nZre6VZwwD045z5bp4q5nN4KJAsBBwAAAAAAcDyuwQEAAAAAAByPgAMAAAAAADgeAQcAAAAAAHA8Ag4AAAAAAOB4BBwAAAAAAMDxCDgAAAAAAIDjEXAAAAAAAADHI+AAAAAAAACOR8ABAAAAAAAcj4ADAAAAAAA4HgEHAAAAAABwPAIOAAAAAADgeP8/kFdycyJtYc4AAAAASUVORK5CYII=)"
      ]
    },
    {
      "cell_type": "markdown",
      "metadata": {
        "id": "JJm_l1YDV8K5"
      },
      "source": [
        "We see that ${\\bf h}_{t}$, and hence ${\\bf y}_{t}$, depends on all the past history (all past inputs and all past states). As all the network 'copies' share the same parameters, when computing the gradients of the loss function with respect to the hidden layer's weights and biases we need to backpropagate the error signal for an arbitrarily large number of time steps. This is of course unfeasible in any practical situation, so we usually do is to fix a time window of ``seq_len`` time steps and do not backpropagate the error further than this (*truncated backpropagation through time*).\n",
        "\n",
        "The network state may however be passed continuously from one batch to the next and hence the network can in principle track events that ocurred many time steps before (long term dependencies). \n",
        "\n"
      ]
    },
    {
      "cell_type": "markdown",
      "metadata": {
        "id": "-NLVdHjYF371"
      },
      "source": [
        "## Example. Predict the parity of bit sequence\n",
        "\n",
        "The second example is the parity problem described above. The input is a string with several bit sequences separated by the ``$`` symbol, and the output is the parity of the sequence since the last ``$``. One example of input/output is shown below:\n",
        "\n",
        "```\n",
        "INPUT:  $11011100000010001$1100000001010011$001001110$$010\n",
        "OUTPUT: 01001011111110000101000000001100010000111010000011\n",
        "```\n",
        "\n",
        "The following function is used to generate input/output sequences for the parity problem:"
      ]
    },
    {
      "cell_type": "code",
      "metadata": {
        "id": "qu6A7bWjV7nY"
      },
      "source": [
        "def generate_sequences(n, p0, p1):\n",
        "  \"\"\"\n",
        "  n is the number of elements in the sequence\n",
        "  p0 and p1 must be probabilities, with p0 + p1 <= 1\n",
        "  the probability for the $ symbol is assumed to be p$ = 1 - p0 - p1\n",
        "  \"\"\"\n",
        "  r = np.random.rand(n)\n",
        "  x_sym = np.full(n, '$')\n",
        "  x = np.full(n, 2)\n",
        "  x_sym[r < p0 + p1] = '1'\n",
        "  x[r < p0 + p1] = 1\n",
        "  x_sym[r < p0] = '0'\n",
        "  x[r < p0] = 0\n",
        "  x_sym[0] = '$'\n",
        "  x[0] = 2\n",
        "  t = np.zeros(n, dtype=np.int)\n",
        "  k = 0\n",
        "  for i in range(n):\n",
        "    if x[i] == 2:\n",
        "      t[i] = 0\n",
        "      k = 0\n",
        "    else:\n",
        "      k += x[i]\n",
        "      t[i] = k%2\n",
        "\n",
        "  x_string = ''.join(x_sym)\n",
        "  t_string = ''.join([chr(c+48) for c in t])\n",
        "\n",
        "  x_one_hot = 1*(np.arange(3)[:, None] == x[None, :])\n",
        "\n",
        "  return x, t, x_one_hot, x_string, t_string"
      ],
      "execution_count": 37,
      "outputs": []
    },
    {
      "cell_type": "markdown",
      "metadata": {
        "id": "Zh7vohKndpGT"
      },
      "source": [
        "The following code generates a sequence of length 5000:"
      ]
    },
    {
      "cell_type": "code",
      "metadata": {
        "id": "es6A8hntg2_F"
      },
      "source": [
        "num_pats = 5000\n",
        "x, t, x_one_hot, x_string, t_string = generate_sequences(num_pats, 0.45, 0.45)"
      ],
      "execution_count": 38,
      "outputs": []
    },
    {
      "cell_type": "markdown",
      "metadata": {
        "id": "mTsJ7D1eGRXd"
      },
      "source": [
        "Model definition. Note that in this case we need a many-to-many architecture, since we need one output for each time step. The model needs also to be *stateful*.\n",
        "\n",
        "- ``stateful=True``: This indicates that it is necessary to pass the last state to the next batch. \n",
        "\n",
        "- ``return_sequences=True``: This indicates that it is necessary to output the states at all time steps, not only the last one. \n",
        "\n",
        "Also, when using a stateful model we need to specify the batch size:\n",
        "\n",
        "- ``batch_input_shape=(1, seq_len, 3)``"
      ]
    },
    {
      "cell_type": "code",
      "metadata": {
        "id": "DIUCWHABGQzj",
        "outputId": "16ab0d62-02ca-47a4-8e24-2f5fe973c8b6",
        "colab": {
          "base_uri": "https://localhost:8080/",
          "height": 533
        }
      },
      "source": [
        "K.clear_session()\n",
        "\n",
        "seq_len = 50\n",
        "\n",
        "model = Sequential()\n",
        "model.add(SimpleRNN(10, activation='tanh', batch_input_shape=(1, seq_len, 3), return_sequences=True, stateful=True, unroll=True))\n",
        "model.add(Dense(1, activation='sigmoid'))\n",
        "print(model.summary())\n",
        "plot_model(model, show_shapes=True, show_layer_names=True)"
      ],
      "execution_count": 43,
      "outputs": [
        {
          "output_type": "stream",
          "text": [
            "Model: \"sequential\"\n",
            "_________________________________________________________________\n",
            "Layer (type)                 Output Shape              Param #   \n",
            "=================================================================\n",
            "simple_rnn (SimpleRNN)       (1, 50, 10)               140       \n",
            "_________________________________________________________________\n",
            "dense (Dense)                (1, 50, 1)                11        \n",
            "=================================================================\n",
            "Total params: 151\n",
            "Trainable params: 151\n",
            "Non-trainable params: 0\n",
            "_________________________________________________________________\n",
            "None\n"
          ],
          "name": "stdout"
        },
        {
          "output_type": "execute_result",
          "data": {
            "image/png": "[encoded data removed]",
            "text/plain": [
              "<IPython.core.display.Image object>"
            ]
          },
          "metadata": {
            "tags": []
          },
          "execution_count": 43
        }
      ]
    },
    {
      "cell_type": "code",
      "metadata": {
        "id": "Wa9oCejNPasw"
      },
      "source": [
        "learning_rate = 0.1 \n",
        "\n",
        "model.compile(loss='binary_crossentropy', optimizer=keras.optimizers.Adam(), metrics=['accuracy'])\n",
        "\n",
        "num_epochs = 100 \n",
        "num_batches = num_pats // seq_len # possibly ignore last elements in sequence \n",
        "\n",
        "model_loss = np.zeros(num_epochs)\n",
        "model_acc = np.zeros(num_epochs)\n",
        "\n",
        "for epoch in range(num_epochs):\n",
        "  model.reset_states() # reset state at the beginning of each epoch\n",
        "\n",
        "  mean_tr_loss = []\n",
        "  mean_tr_acc = []\n",
        "  for j in range(num_batches):\n",
        "    imin = j*seq_len\n",
        "    imax = (j+1)*seq_len\n",
        "    \n",
        "    seq_x = x_one_hot[:, imin:imax].transpose()\n",
        "    seq_t = t[imin:imax]\n",
        "\n",
        "    tr_loss, tr_acc = model.train_on_batch(seq_x[None, :, :], seq_t[None, :, None])\n",
        "    mean_tr_loss.append(tr_loss)\n",
        "    mean_tr_acc.append(tr_acc)\n",
        "  \n",
        "  model_loss[epoch] = np.array(mean_tr_loss).mean()\n",
        "  model_acc[epoch] = np.array(mean_tr_acc).mean()\n",
        "\n",
        "  print(\"\\nTraining epoch: %d / %d\" % (epoch+1, num_epochs), end=\"\")\n",
        "  print(\", loss = %f, acc = %f\" % (model_loss[epoch], model_acc[epoch]), end=\"\")"
      ],
      "execution_count": null,
      "outputs": []
    },
    {
      "cell_type": "code",
      "metadata": {
        "id": "-DLC5a1sRlOo",
        "outputId": "ac612042-3dc0-407c-c409-0e4dbc12160e",
        "colab": {
          "base_uri": "https://localhost:8080/",
          "height": 279
        }
      },
      "source": [
        "plt.plot(model_loss)\n",
        "plt.grid(True)\n",
        "plt.xlabel('epoch')\n",
        "plt.ylabel('loss')\n",
        "plt.show()"
      ],
      "execution_count": 45,
      "outputs": [
        {
          "output_type": "display_data",
          "data": {
            "image/png": "[encoded data removed]",
            "text/plain": [
              "<Figure size 432x288 with 1 Axes>"
            ]
          },
          "metadata": {
            "tags": [],
            "needs_background": "light"
          }
        }
      ]
    },
    {
      "cell_type": "markdown",
      "metadata": {
        "id": "OZMUxMTf3-AB"
      },
      "source": [
        "Evaluate model on test data:"
      ]
    },
    {
      "cell_type": "code",
      "metadata": {
        "id": "cYRZZnYu4Aye",
        "outputId": "ab5d8816-49f1-4c99-f5d6-11c66f685ede",
        "colab": {
          "base_uri": "https://localhost:8080/",
          "height": 34
        }
      },
      "source": [
        "num_test_pats = 5000\n",
        "x_test, t_test, x_test_one_hot, x_test_string, t_test_string = generate_sequences(num_test_pats, 0.45, 0.45)\n",
        "\n",
        "num_test_batches = num_test_pats // seq_len\n",
        "\n",
        "test_loss = []\n",
        "test_acc = []\n",
        "for j in range(num_test_batches):\n",
        "  imin = j*seq_len\n",
        "  imax = (j+1)*seq_len\n",
        "  \n",
        "  seq_x = x_test_one_hot[:, imin:imax].transpose()\n",
        "  seq_t = t_test[imin:imax]\n",
        "\n",
        "  loss, acc = model.test_on_batch(seq_x[None, :, :], seq_t[None, :, None])\n",
        "  test_loss.append(loss)\n",
        "  test_acc.append(acc)\n",
        "\n",
        "print(\"Test loss = %f, test acc = %f\" % (np.array(test_loss).mean(), np.array(test_acc).mean()))"
      ],
      "execution_count": 46,
      "outputs": [
        {
          "output_type": "stream",
          "text": [
            "Test loss = 0.000384, test acc = 1.000000\n"
          ],
          "name": "stdout"
        }
      ]
    },
    {
      "cell_type": "markdown",
      "metadata": {
        "id": "yE0S8d4vbxdx"
      },
      "source": [
        "## The vanishing and exploding gradient problems\n",
        "\n",
        "If we analyze the gradient flow in an Elman RNN, we observe that with each step back in the computational graph the gradient of the loss function gets multiplied by:\n",
        "\n",
        "$$\n",
        "\\frac{\\partial{{\\bf h}_{t}}}{\\partial{{\\bf h}_{t-1}}} = W_{hh}^{t} f'({\\bf v}_{t})\n",
        "$$\n",
        "\n",
        "When using activations such as the *sigmoid* or *tanh* functions, whose derivatives are always (*sigmoid*) or almost always (*tanh*) lower than 1, the gradient gets repeatedly multiplied by a small constant, and hence tends to zero after several time steps. This is known as the *vanishing gradient* problem. \n",
        "\n",
        "We could consider using a linear activation, but even in this case the gradient is continuously multiplied by the matrix $W_{hh}^{t}$. In such a situation the behaviour depends on the largest singular value of this matrix:\n",
        "\n",
        "- If it is greater than one, the gradient continuously increases (*exploding gradient* problem).\n",
        "\n",
        "- If it is lower than one, the gradient decreases to zero (*vanishing gradient* problem).\n",
        "\n",
        "The *exploding gradient* problem can be safely avoided by using a technique called *gradient clipping* which consists of scaling down the gradient if its norm is too big.\n",
        "\n",
        "The *vanishing gradient* problem has no easy solution, but some RNN architectures have been designed to reduce its effects.\n"
      ]
    },
    {
      "cell_type": "markdown",
      "metadata": {
        "id": "VJS2ZBPobYiS"
      },
      "source": [
        "## Long short-term memory (LSTM) \n",
        "\n",
        "LSTMs (Hochreiter and Schmidhuber, 1997) are designed to avoid the long term dependency problem due to the vanishing gradient. They are governed by the following equations:\n",
        "\n",
        "$$\n",
        "\\begin{eqnarray}\n",
        "{\\bf f}_{t} &=& \\sigma(W_{f} [{\\bf x}_{t}; {\\bf h}_{t-1}] + {\\bf b}_{f}),\\\\\n",
        "{\\bf i}_{t} &=& \\sigma(W_{i} [{\\bf x}_{t}; {\\bf h}_{t-1}] + {\\bf b}_{i}),\\\\\n",
        "\\tilde{{\\bf c}}_{t} &=& \\tanh(W_{c} [{\\bf x}_{t}; {\\bf h}_{t-1}] + {\\bf b}_{c}),\\\\ \n",
        "{\\bf c}_{t} &=& {\\bf f}_{t} \\circ {\\bf c}_{t-1} + {\\bf i}_{t} \\circ \\tilde{{\\bf c}}_{t},\\\\ \n",
        "{\\bf o}_{t} &=& \\sigma(W_{o} [{\\bf x}_{t}; {\\bf h}_{t-1}] + {\\bf b}_{o}), \\\\\n",
        "{\\bf h}_{t} &=& {\\bf o}_{t} \\circ \\tanh({\\bf c}_{t}). \n",
        "\\end{eqnarray}\n",
        "$$\n",
        "\n",
        "In these equations $[{\\bf x}_{t}; {\\bf h}_{t-1}]$ means the concatenation of vectors ${\\bf x}_{t}$ and ${\\bf h}_{t-1}$, and the operator $\\circ$ represents an element-wise multiplication.\n",
        "\n",
        "The LSTM provides an uninterrupted gradient flow that allows the network learn long term dependencies.\n",
        "\n",
        "\n",
        "\n"
      ]
    },
    {
      "cell_type": "markdown",
      "metadata": {
        "id": "Y7FkDk3ubbVR"
      },
      "source": [
        "## Gated recurrent unit (GRU)\n",
        "\n",
        "The Gated Recurrent Unit (Cho et al., 2014) is a modification of the LSTM architecture that combines the forget and input gates into a single update gate, reducing the number of parameters. \n",
        "\n",
        "$$\n",
        "\\begin{eqnarray*}\n",
        "{\\bf z}_{t} &=& \\sigma(W_{z} [{\\bf x}_{t}; {\\bf h}_{t-1}] + {\\bf b}_{z}),\\\\\n",
        "{\\bf r}_{t} &=& \\sigma(W_{r} [{\\bf x}_{t}; {\\bf h}_{t-1}] + {\\bf b}_{r}),\\\\\n",
        "\\tilde{{\\bf h}}_{t} &=& \\tanh(W_{h} [{\\bf x}_{t}; {\\bf r}_{t} \\circ {\\bf h}_{t-1}] + {\\bf b}_{h}),\\\\ \n",
        "{\\bf h}_{t} &=& (1 - {\\bf z}_{t}) \\circ {\\bf h}_{t-1} + {\\bf z}_{t} \\circ \\tilde{{\\bf h}}_{t}. \n",
        "\\end{eqnarray*}\n",
        "$$\n"
      ]
    },
    {
      "cell_type": "markdown",
      "metadata": {
        "id": "mtgykafWIRU-"
      },
      "source": [
        "## Final example. Text generation: predict the next char\n",
        "\n",
        "... to do..."
      ]
    }
  ]
}